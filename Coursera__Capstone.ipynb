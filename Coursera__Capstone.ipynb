{
  "nbformat": 4,
  "nbformat_minor": 0,
  "metadata": {
    "colab": {
      "name": "Coursera_ Capstone.ipynb",
      "provenance": [],
      "authorship_tag": "ABX9TyN6oKeANu14yLeXFcxr4Gf6"
    },
    "kernelspec": {
      "name": "python3",
      "display_name": "Python 3"
    }
  },
  "cells": [
    {
      "cell_type": "markdown",
      "metadata": {
        "id": "bOBE6PHMxo7k",
        "colab_type": "text"
      },
      "source": [
        " This notebook is for the IBM Data Science Professional certification. I would be working on predicting the severity of car accidents using supervised learning models."
      ]
    },
    {
      "cell_type": "code",
      "metadata": {
        "id": "aY02i-g9x8Hn",
        "colab_type": "code",
        "colab": {}
      },
      "source": [
        "import pandas as pd\n",
        "import numpy as np"
      ],
      "execution_count": null,
      "outputs": []
    },
    {
      "cell_type": "code",
      "metadata": {
        "id": "tnBTJPCtyIBl",
        "colab_type": "code",
        "colab": {
          "base_uri": "https://localhost:8080/",
          "height": 34
        },
        "outputId": "bfd93923-0010-487c-b063-6f5acd113247"
      },
      "source": [
        "print(\"Hello Capstone Project Course.\")"
      ],
      "execution_count": null,
      "outputs": [
        {
          "output_type": "stream",
          "text": [
            "Hello Capstone Project Course.\n"
          ],
          "name": "stdout"
        }
      ]
    }
  ]
}